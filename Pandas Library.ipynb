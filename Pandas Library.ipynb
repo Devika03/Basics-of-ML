{
 "cells": [
  {
   "cell_type": "markdown",
   "id": "e80fba58",
   "metadata": {},
   "source": [
    "# Data Ana. with Multiple Columns "
   ]
  },
  {
   "cell_type": "code",
   "execution_count": 1,
   "id": "125c40d2",
   "metadata": {},
   "outputs": [],
   "source": [
    "import numpy as np \n",
    "import pandas as pd \n",
    "\n",
    "from sklearn.impute import SimpleImputer"
   ]
  },
  {
   "cell_type": "code",
   "execution_count": 4,
   "id": "0967bc39",
   "metadata": {},
   "outputs": [],
   "source": [
    "df = pd.read_csv('googleplaystore.csv')\n",
    "\n",
    "impute = SimpleImputer(missing_values = np.nan , strategy = 'mean')\n",
    "impute.fit (df.iloc[ : , 2:3 ].values )\n",
    "df.iloc[ : , 2:3 ] = impute.transform(df.iloc[ : , 2:3 ].values)\n",
    "\n",
    "df= df.dropna()"
   ]
  },
  {
   "cell_type": "code",
   "execution_count": 6,
   "id": "329b82d6",
   "metadata": {},
   "outputs": [
    {
     "data": {
      "text/plain": [
       "App               0\n",
       "Category          0\n",
       "Rating            0\n",
       "Reviews           0\n",
       "Size              0\n",
       "Installs          0\n",
       "Type              0\n",
       "Price             0\n",
       "Content Rating    0\n",
       "Genres            0\n",
       "Last Updated      0\n",
       "Current Ver       0\n",
       "Android Ver       0\n",
       "dtype: int64"
      ]
     },
     "execution_count": 6,
     "metadata": {},
     "output_type": "execute_result"
    }
   ],
   "source": [
    "df.isnull().sum()"
   ]
  },
  {
   "cell_type": "markdown",
   "id": "0f5fef5c",
   "metadata": {},
   "source": [
    "# To find no. of Free Apps in ART_AND_DESIGN \n",
    "# ( Dealing w 2 cols. - Type and Category )"
   ]
  },
  {
   "cell_type": "code",
   "execution_count": 8,
   "id": "8a519476",
   "metadata": {},
   "outputs": [],
   "source": [
    "df = df.values #It will convert df to 2-d Array "
   ]
  },
  {
   "cell_type": "code",
   "execution_count": 31,
   "id": "4c96adc1",
   "metadata": {},
   "outputs": [
    {
     "data": {
      "text/plain": [
       "array(['Photo Editor & Candy Camera & Grid & ScrapBook', 'ART_AND_DESIGN',\n",
       "       4.1, '159', '19M', '10,000+', 'Free', '0', 'Everyone',\n",
       "       'Art & Design', '7-Jan-18', '1.0.0', '4.0.3 and up'], dtype=object)"
      ]
     },
     "execution_count": 31,
     "metadata": {},
     "output_type": "execute_result"
    }
   ],
   "source": [
    "df[0]# All data of fist Application . "
   ]
  },
  {
   "cell_type": "code",
   "execution_count": 11,
   "id": "b8d7d48a",
   "metadata": {},
   "outputs": [
    {
     "name": "stdout",
     "output_type": "stream",
     "text": [
      "ART_AND_DESIGN Free\n"
     ]
    }
   ],
   "source": [
    "for i in df:\n",
    "    print(i[1],i[6])\n",
    "    break"
   ]
  },
  {
   "cell_type": "code",
   "execution_count": 12,
   "id": "fe72a614",
   "metadata": {},
   "outputs": [
    {
     "name": "stdout",
     "output_type": "stream",
     "text": [
      "There are 61 free apps from ART_AND_DESIGN\n"
     ]
    }
   ],
   "source": [
    "c=0\n",
    "for i in df:\n",
    "    if(i[1]== 'ART_AND_DESIGN' and i[6]== 'Free'):\n",
    "        c+=1\n",
    "print(\"There are\", c , \"free apps from ART_AND_DESIGN\")"
   ]
  },
  {
   "cell_type": "markdown",
   "id": "124e9902",
   "metadata": {},
   "source": [
    "# List all the Free Apps w rating > 4.5 and Category is FAMILY  - "
   ]
  },
  {
   "cell_type": "code",
   "execution_count": 24,
   "id": "3b2e3e1f",
   "metadata": {},
   "outputs": [
    {
     "name": "stdout",
     "output_type": "stream",
     "text": [
      "Super ABC! Learning games for kids! Preschool apps\n",
      "Candy Pop Story\n",
      "Dog Run - Pet Dog Simulator\n",
      "Puzzle Kids - Animals Shapes and Jigsaw Puzzles\n",
      "No. Color - Color by Number, Number Coloring\n",
      "Garden Fruit Legend\n",
      "Piano Kids - Music & Songs\n",
      "Duolingo: Learn Languages Free\n",
      "Super ABC! Learning games for kids! Preschool apps\n",
      "Drawing for Kids Learning Games for Toddlers age 3\n",
      "Baby ABC in box! Kids alphabet games for toddlers!\n",
      "Henry Danger Crime Warp\n",
      "Fruit Cube Blast\n",
      "Toddler Kids Puzzles PUZZINGO\n",
      "Fuzzy Seasons: Animal Forest\n",
      "Dog Run - Pet Dog Simulator\n",
      "My Oasis - Calming and Relaxing Idle Clicker Game\n",
      "Ninja Dash - Ronin Jump RPG\n",
      "Monster High™ Minis Mania\n",
      "Monica Toy TV\n",
      "Sworkit Kids - Fitness Meets Fun\n",
      "Crazy Colors: Bubbles Matching\n",
      "Pino chess\n",
      "Duolingo: Learn Languages Free\n",
      "Animal Jam - Play Wild!\n",
      "Dog Sim Online: Raise a Family\n",
      "Color by Number - Draw Sandbox Pixel Art\n",
      "Build a Bridge!\n",
      "Find a Way: Addictive Puzzle\n",
      "CompTIA Exam Training\n",
      "Gymnastics Superstar - Spin your way to gold!\n",
      "Hungry Hearts Diner: A Tale of Star-Crossed Souls\n",
      "Dragon Sim Online: Be A Dragon\n",
      "Cat Sim Online: Play with Cats\n",
      "Clash of Clans\n",
      "Clash Royale\n",
      "Learn C++\n",
      "C Programming Zone\n",
      "All C Programs\n",
      "codeEazy - C/C++/JAVA\n",
      "C Functions\n",
      "Learn Basic C - For Beginners\n",
      "C Prowess\n",
      "101 C Programming Problems\n",
      "C BOOK-C PROGRAMS\n",
      "Eternium\n",
      "Harris J Lyrics\n",
      "2048 BTS J Hope KPop Puzzle Game\n",
      "J. Cole Albums (2007-2017)\n",
      "K-Otic Universe\n",
      "CASE K-12 Math English Science\n",
      "K-Spapp, the K-Space app\n",
      "EXO-L\n",
      "Fantastic Chefs: Match 'n Cook\n",
      "Twitch: Livestream Multiplayer Games & Esports\n",
      "Channel U\n",
      "Get Free V-bucks_fortnite Hints\n",
      "Easy V-Bux free\n",
      "X-Wing Squadron Builder\n",
      "JW Caleb y Sofia\n",
      "PewDiePie's Tuber Simulator\n",
      "Z-Empire: Dead Strike\n",
      "Angry Birds Blast\n",
      "Angry Birds Match\n",
      "Angry Birds 2\n",
      "Alchemy Classic Ad Free\n",
      "Nasihat - Chalo ae Pyaara\n",
      "9GAG: Funny Gifs, Pics, Memes & Videos for IGTV\n",
      "Orbita AI — Exciting mobile puzzles & riddles\n",
      "Learn Artificial Intelligence\n",
      "Animal Jam - Play Wild!\n",
      "AJ Official\n",
      "Little Pets Animal Guardians\n",
      "AJ Rafael Music Lessons\n",
      "Weapon stripping 3D\n",
      "Al jazeera TV\n",
      "Al Quran Audio (Full 30 Juz)\n",
      "Quran for All (Al-Huda Int.)\n",
      "Ayat - Al Quran\n",
      "Quran Juz-30 - Mahad al Zahra\n",
      "Al Quran MP3 - Quran Reading®\n",
      "Al-Quran Ahmad Saud Offline\n",
      "Virtual lover\n",
      "virtual lover 3D\n",
      "Bubbu – My Virtual Pet\n",
      "AP® Guide\n",
      "AP Mobile\n",
      "Study AP World History\n",
      "AP Chemistry Prep: Practice Tests and Flashcards\n",
      "AP World History: Practice Tests and Flashcards\n",
      "AP Biology Prep: Practice Tests, Flashcards\n",
      "AP European History: Practice Tests and Flashcards\n",
      "Adventure Quest World Mobile Quiz\n",
      "AQ Ria Retail\n",
      "Accounting Quiz (AQ) Malaysia\n",
      "Wowkwis aq Ka'qaquj\n",
      "Questland: Turn Based RPG\n",
      "Grow Stone Online : 2d pixel RPG, MMORPG game\n",
      "Egg, Inc.\n",
      "Choices: Stories You Play\n",
      "Aw Restaurant\n",
      "AW Training\n",
      "Anime Expo 2018\n",
      "INTERACTIVE CALCULUS FOR MATHS AND PHYSICS\n",
      "Pinoy Kid Song Ako ay may Lobo\n",
      "Quran Khmer Offline AY\n",
      "Permit Test AZ Arizona MVD DOT\n",
      "Catalyst AZ\n",
      "Az Video Status\n",
      "Goody.ba\n",
      "Learn alif ba ta\n",
      "Arabic Alphabet Alif Ba Ta Wooden Blocks\n",
      "Let's Learn Alif Ba Ta\n",
      "Sufara.ba\n",
      "Elif Ba - Learn The Holy Quran\n",
      "Elifba Quran Learning Game\n",
      "Railroad Radio Vancouver BC\n",
      "BD Online Passport Application\n",
      "BD Hospital's\n",
      "Exam Result BD\n",
      "BG Future School\n",
      "Learn Bulgarian Free\n",
      "Bh Public School\n",
      "BH Challenge - Museum of the Jewish People\n",
      "Bitmoji – Your Personal Emoji\n",
      "Business Intelligence & Data\n",
      "TED\n",
      "English Grammar Test\n",
      "HON. B.J. ACS COLLEGE ALE\n",
      "BK Video Status\n",
      "Audio Murli Glossary For BK\n",
      "Baba Yaad Hai?(BK's)\n",
      "BK murli today (Mobile Murli) - Gyan\n",
      "BK Murli Dictionary (H to E)\n",
      "BkEmu - BK-0010/11M emulator\n",
      "Cerulean Heart\n",
      "あなカレ【BL】無料ゲーム\n",
      "BM SPM Practice\n",
      "Township\n",
      "Blood Pressure Diary\n",
      "RoboPad\n",
      "Br Shafi\n",
      "Companion for Fortnite & Fortnite Battle Royale\n",
      "Vlogger Go Viral - Tuber Game\n",
      "Loved by King Bs\n",
      "BS CS IT & SE\n",
      "Marked by King Bs\n",
      "COMSATS BOOK STORE FOR BS(CS)\n",
      "Beauty Rental Shop\n",
      "Sleeping Delivery\n",
      "Wifi BT Scanner\n",
      "BU Study\n",
      "Barisal University App-BU Face\n",
      "BU Students' Rep. Council\n",
      "BU Calculator\n",
      "BV Sridhara Maharaj\n",
      "Quadratic Equation Solver with Steps and Graphs\n",
      "Sandbox - Color by Number Coloring Pages\n",
      "Sandbox Art-Sandbox Color by Number Coloring Pages\n",
      "Color By Number - Sandbox Pixel Coloring Book\n",
      "PixelDot - Color by Number Sandbox Pixel Art\n",
      "PixPanda - Color by Number Pixel Art Coloring Book\n",
      "Pixyfy: coloring by number coloring book\n",
      "Draw Color by Number - Sandbox Pixel Art\n",
      "Butterfly Pixel Art - coloring by number\n",
      "Color by Number: Pixel Art\n",
      "UNICORN - Color By Number & Pixel Art Coloring\n",
      "FunnyPixels - Color by number Sandbox\n",
      "No.Diamond – Colors by Number\n",
      "Park Limousine: Realistic Limo Parking Simulator\n",
      "CB News\n",
      "CB Register\n",
      "CD CHOICE TUBE\n",
      "Yazdani Cd Center EllahAbad Official App\n",
      "MCQ CE IT\n",
      "Magana Jari ce Littafi Na Uku : Part 3 of 3\n",
      "CF Life\n",
      "All Info about Cg\n",
      "CG FM\n",
      "CG - Chemistry free\n",
      "CG Jobs\n",
      "BF CG Abstract Pictures\n",
      "CI Dictionary\n",
      "Sir C J New Primary School\n",
      "Louis CK\n",
      "Tic Tac CK\n",
      "Castle Clash: Heroes of the Empire US\n",
      "Cartoon Network Match Land\n",
      "Super Slime Blitz - Gumball\n",
      "Surely You Quest - Magiswords\n",
      "We Bare Bears Match3 Repairs\n",
      "Champions and Challengers - Adventure Time\n",
      "CN Resident\n",
      "CP Channel\n",
      "Foothills CP\n",
      "Cp Calculator for Evolution:GO\n",
      "ClanManagerTT2\n",
      "Christian Questions Podcast\n",
      "CR & CoC Private Server - Clash Barbarians PRO\n",
      "Ultimate Clash Royale Tracker\n",
      "Servidor Privado de CR y CoC - Light Royale\n",
      "Deck Shop for Clash Royale\n",
      "Cr Aviation Academy\n",
      "CS Interview Questions (TechQ)\n",
      "DU CS Lectures - Learn to Code for Free\n",
      "CS & IT Interview Questions\n",
      "CA CS Network\n",
      "CT Scan Generations\n",
      "CT Brain Interpretation\n",
      "Permit Test Connecticut CT DMV\n",
      "Cy-Reader\n",
      "MadLipz\n",
      "DB Tools\n",
      "DB for Hustle Castle\n",
      "MARVEL Future Fight\n",
      "DC N COMPANY ENTERTAINMENT RADIO!\n",
      "Driver Permit Test Prep DC DMV Driver's License Ed\n",
      "Coloring Book for Me & Mandala\n",
      "Anime Love Story Games: ✨Shadowtime✨\n",
      "DH-UFO\n",
      "Idle Heroes\n",
      "Duolingo: Learn Languages Free\n",
      "PK and DK Audio App\n",
      "dk\n",
      "Account Class-12 Solutions (D K Goel) Vol-2\n",
      "DL Hughley\n",
      "DM Buddy » Learn Digital Marketing\n",
      "Disciple Maker’s (DM) Lab\n",
      "DN Employee\n",
      "Dragon Nest M\n",
      "CritDice - Dice Roller\n",
      "Maher EL Mouaikly - Offline\n",
      "Darkness Rises\n",
      "Latest DP and Status Pro 2018\n",
      "Faceoff DP Battle App\n",
      "RPG Dragon Lapis\n",
      "DQSalmaan - A fan made App\n",
      "DS\n",
      "MegaN64 (N64 Emulator)\n",
      "DS-Students\n",
      "DT Driving Test Theory\n",
      "WPBS-DT\n",
      "Du Chinese – Mandarin Lessons\n",
      "DV ASSIST\n",
      "DV Lottery Simulator\n",
      "DV-2019 UK/British\n",
      "DW Audio\n",
      "German Listening\n",
      "Piczle Lines DX\n",
      "DX Simulation for OOO Dx Belt\n",
      "DX Simulation for Kabuto Henshin Belt 2018\n",
      "DX Simulation for Double Dx Henshin Belt 2018\n",
      "KPS CHAUHAN DY/DX\n",
      "DYPSOET\n",
      "Typical EA Game\n",
      "EC Calgary\n",
      "EC Fairgrounds\n",
      "GATE Syllabus for EC 2018 & Notifications\n",
      "English Conversation Courses\n",
      "Dance Magic Fashion Style Games\n",
      "EI国际\n",
      "TeamWard – live help for LoL\n",
      "Master E.K\n",
      "Ek Onkar\n",
      "Pyaar Ek Dhoka\n",
      "Ek Bander Ne Kholi Dukan\n",
      "Toilet Ek Prem Katha Songs Lyrics in Hindi\n",
      "Sanu Ek Pal Chain Song Videos - RAID Movie Songs\n",
      "Ek Qissa He Quran Se (Qurani Waqiyat)\n",
      "Lyrics of Ek Paheli Leela\n",
      "Exiled Kingdoms RPG\n",
      "Shabad Gurubani Punjabi mp3 free - Ek Onkar Satnam\n",
      "El Falı\n",
      "OWLIE BOO\n",
      "Narcos: Cartel Wars\n",
      "Hello English: Learn English\n",
      "Learn Top 300 English Words\n",
      "Masha and the Bear. Games for kids\n",
      "Masha and The Bear Jam Day Match 3 games for kids\n",
      "Masha and the Bear: Good Night!\n",
      "EP Radio\n",
      "Super Doctor 2 - My Newborn Baby ER Injection\n",
      "Open Heart Surgery Hospital ER: Crazy Doctor Sim\n",
      "YEBIS OpenGL ES 3.0 Tech Demo\n",
      "Advanced calculator fx 991 es plus & 991 ms plus\n",
      "Castle Clash: Epic Empire ES\n",
      "School scientific calculator fx 500 es plus 500 ms\n",
      "Lettre et demande d'emploi\n",
      "daskal.eu\n",
      "PokeType - Dex\n",
      "Pink Guy - Ey B0ss\n",
      "Ey Sey Storytime រឿងនិទានតាឥសី\n",
      "Fallout Shelter\n",
      "Story Time FD\n",
      "FD VR Music Videos - MTV Pop and Rap in 360\n",
      "Fire Emblem Heroes\n",
      "Safe Santa Fe\n",
      "POLARIS 2MFG\n",
      "Puzzles Volvo FH 16 Trucks\n",
      "Jigsaw Volvo FH 16 Trucks\n",
      "FH School\n",
      "FK Željezničar Izzy\n",
      "Permit Test FL Florida DHSMV\n",
      "FL Lottery Results\n",
      "Scratch-Off Guide for FL Lotto\n",
      "Canvas FL\n",
      "Florida Wildflowers\n",
      "How it Works: FN SCAR assault rifle\n",
      "Ninja FN Button\n",
      "Pin-fo\n",
      "Fr Ignacio Outreach\n",
      "Castle Clash: RPG War and Strategy FR\n",
      "Fr. Daoud Lamei\n",
      "Fr. Mike Schmitz Audio Teachings\n"
     ]
    }
   ],
   "source": [
    "for i in df:\n",
    "    if(i[1]== 'FAMILY' and i[2] > 4.5 and i[6] == 'Free'):\n",
    "        print(i[0])"
   ]
  },
  {
   "cell_type": "markdown",
   "id": "b0f1358e",
   "metadata": {},
   "source": [
    "# Data Analysis using Conditions "
   ]
  },
  {
   "cell_type": "code",
   "execution_count": 29,
   "id": "f11867c9",
   "metadata": {},
   "outputs": [
    {
     "ename": "IndexError",
     "evalue": "only integers, slices (`:`), ellipsis (`...`), numpy.newaxis (`None`) and integer or boolean arrays are valid indices",
     "output_type": "error",
     "traceback": [
      "\u001b[1;31m---------------------------------------------------------------------------\u001b[0m",
      "\u001b[1;31mIndexError\u001b[0m                                Traceback (most recent call last)",
      "\u001b[1;32m~\\AppData\\Local\\Temp\\ipykernel_9424\\1729645899.py\u001b[0m in \u001b[0;36m<module>\u001b[1;34m\u001b[0m\n\u001b[1;32m----> 1\u001b[1;33m \u001b[0mdf\u001b[0m\u001b[1;33m[\u001b[0m\u001b[1;34m'Category'\u001b[0m\u001b[1;33m]\u001b[0m \u001b[1;33m==\u001b[0m \u001b[1;34m'BOOKS_AND_REFERENCE'\u001b[0m \u001b[1;31m#Wherever you are having BOOKS_AND_REFERENCE is True\u001b[0m\u001b[1;33m\u001b[0m\u001b[1;33m\u001b[0m\u001b[0m\n\u001b[0m\u001b[0;32m      2\u001b[0m \u001b[0mdf\u001b[0m\u001b[1;33m[\u001b[0m\u001b[0mdf\u001b[0m\u001b[1;33m[\u001b[0m\u001b[1;34m'Category'\u001b[0m\u001b[1;33m]\u001b[0m \u001b[1;33m==\u001b[0m \u001b[1;34m'BOOKS_AND_REFERENCE'\u001b[0m\u001b[1;33m]\u001b[0m \u001b[1;31m#It will display all details where Category == BOOKS_AND_REFERENCE\u001b[0m\u001b[1;33m\u001b[0m\u001b[1;33m\u001b[0m\u001b[0m\n",
      "\u001b[1;31mIndexError\u001b[0m: only integers, slices (`:`), ellipsis (`...`), numpy.newaxis (`None`) and integer or boolean arrays are valid indices"
     ]
    }
   ],
   "source": [
    "df['Category'] == 'BOOKS_AND_REFERENCE' #Wherever you are having BOOKS_AND_REFERENCE is True \n",
    "df[df['Category'] == 'BOOKS_AND_REFERENCE'] #It will display all details where Category == BOOKS_AND_REFERENCE. "
   ]
  },
  {
   "cell_type": "markdown",
   "id": "99c73700",
   "metadata": {},
   "source": [
    "# To find no. of Free Apps in ART_AND_DESIGN \n",
    "# ( Dealing w 2 cols. - Type and Category )"
   ]
  },
  {
   "cell_type": "code",
   "execution_count": null,
   "id": "53ad301e",
   "metadata": {},
   "outputs": [],
   "source": [
    "df_ pr = df[df['Category']== 'ART_AND_DESIGN'] #Processed data\n",
    "df_pr[df_pr['Type'] == 'Free'] #Will return what is asked in the question. \n",
    "print(len(df_pr))"
   ]
  },
  {
   "cell_type": "markdown",
   "id": "d0e03737",
   "metadata": {},
   "source": [
    "# To find no. of Apps in ART_AND_DESIGN w rating >4.5\n",
    "# ( Dealing w 2 cols. - Type and Rating )"
   ]
  },
  {
   "cell_type": "code",
   "execution_count": null,
   "id": "f7646a04",
   "metadata": {},
   "outputs": [],
   "source": [
    "df_pr = df[df['Category']== 'ART_AND_DESIGN'] #Processed data\n",
    "df_pr = df_pr[df_pr['Rating'] > 4.5 ] \n",
    "print(len(df_pr))"
   ]
  },
  {
   "cell_type": "markdown",
   "id": "1da9262a",
   "metadata": {},
   "source": [
    "# List all the Free Apps w rating > 4.5 and Category is FAMILY  - "
   ]
  },
  {
   "cell_type": "code",
   "execution_count": null,
   "id": "d6b3591b",
   "metadata": {},
   "outputs": [],
   "source": [
    "df_pr = df[df['Category']== 'FAMILY'] #Processed data\n",
    "df_pr = df_pr[df_pr['Rating'] > 4.5 ] \n",
    "result = df_pr[df_pr['Type'] == 'Free' ].values #Array \n",
    "\n",
    "for i in result :\n",
    "    print(i[0])"
   ]
  },
  {
   "cell_type": "markdown",
   "id": "63b4eead",
   "metadata": {},
   "source": [
    "# GroupBy in Pandas - "
   ]
  },
  {
   "cell_type": "markdown",
   "id": "9a49b418",
   "metadata": {},
   "source": [
    "# Name the apps that are in ' ART_AND_DESIGN ' w rating > 4.5 in asc order wrt Ratings ?"
   ]
  },
  {
   "cell_type": "code",
   "execution_count": null,
   "id": "6fa6849a",
   "metadata": {},
   "outputs": [],
   "source": [
    "df_pr = df[df['Category']== 'ART_AND_DESIGN'] #Processed data\n",
    "df_pr = df_pr[df_pr['Rating'] > 4.5 \n",
    "              \n",
    "df_pr.sort_values( by = 'Rating' , ascending = True ) #descending \n",
    "             "
   ]
  },
  {
   "cell_type": "markdown",
   "id": "22105582",
   "metadata": {},
   "source": [
    "# To print Category in desc. order of Avg. Rating ?"
   ]
  },
  {
   "cell_type": "code",
   "execution_count": null,
   "id": "3ac1a335",
   "metadata": {},
   "outputs": [],
   "source": [
    "df.groupby('Category').mean()['Rating'].sort_values(ascending = False)"
   ]
  },
  {
   "cell_type": "markdown",
   "id": "efcb0ee9",
   "metadata": {},
   "source": [
    "# How many apps are there in each category ?"
   ]
  },
  {
   "cell_type": "code",
   "execution_count": null,
   "id": "94270fda",
   "metadata": {},
   "outputs": [],
   "source": [
    "df.groupby('Category').count()['Type'].sort_values(ascending = False )"
   ]
  },
  {
   "cell_type": "markdown",
   "id": "9aec4998",
   "metadata": {},
   "source": [
    "# How many paid apps are there in each category in Desc. order ?"
   ]
  },
  {
   "cell_type": "code",
   "execution_count": null,
   "id": "89d39e02",
   "metadata": {},
   "outputs": [],
   "source": [
    "df_pr = df[df['Type']== 'Paid']\n",
    "df_pr.groupby('Category').count()['Type'].sort_values(ascending = False )"
   ]
  },
  {
   "cell_type": "code",
   "execution_count": 1,
   "id": "c8d40102",
   "metadata": {},
   "outputs": [],
   "source": [
    "import sys"
   ]
  },
  {
   "cell_type": "code",
   "execution_count": 2,
   "id": "e427753d",
   "metadata": {},
   "outputs": [
    {
     "name": "stdout",
     "output_type": "stream",
     "text": [
      "3.9.13 (main, Aug 25 2022, 23:51:50) [MSC v.1916 64 bit (AMD64)]\n"
     ]
    }
   ],
   "source": [
    "print(sys.version)"
   ]
  }
 ],
 "metadata": {
  "kernelspec": {
   "display_name": "Python 3 (ipykernel)",
   "language": "python",
   "name": "python3"
  },
  "language_info": {
   "codemirror_mode": {
    "name": "ipython",
    "version": 3
   },
   "file_extension": ".py",
   "mimetype": "text/x-python",
   "name": "python",
   "nbconvert_exporter": "python",
   "pygments_lexer": "ipython3",
   "version": "3.9.13"
  }
 },
 "nbformat": 4,
 "nbformat_minor": 5
}
