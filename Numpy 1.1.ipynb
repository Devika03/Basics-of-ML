{
 "cells": [
  {
   "cell_type": "code",
   "execution_count": 3,
   "id": "96d15046",
   "metadata": {},
   "outputs": [],
   "source": [
    "import numpy as np "
   ]
  },
  {
   "cell_type": "code",
   "execution_count": 4,
   "id": "b428d513",
   "metadata": {},
   "outputs": [
    {
     "name": "stdout",
     "output_type": "stream",
     "text": [
      "5.0\n"
     ]
    }
   ],
   "source": [
    "arr = np.array([1,3,5,7,9])\n",
    "mean = sum(arr)/len(arr)\n",
    "print(mean)"
   ]
  },
  {
   "cell_type": "code",
   "execution_count": 5,
   "id": "dd47a80b",
   "metadata": {},
   "outputs": [
    {
     "data": {
      "text/plain": [
       "5.0"
      ]
     },
     "execution_count": 5,
     "metadata": {},
     "output_type": "execute_result"
    }
   ],
   "source": [
    "np.mean(arr)"
   ]
  },
  {
   "cell_type": "code",
   "execution_count": 6,
   "id": "4d594a86",
   "metadata": {},
   "outputs": [
    {
     "data": {
      "text/plain": [
       "6.333333333333333"
      ]
     },
     "execution_count": 6,
     "metadata": {},
     "output_type": "execute_result"
    }
   ],
   "source": [
    "#For weighted arrays\n",
    "arr = np.array([1,3,5,7,9])\n",
    "w = np.array([1,2,3,4,5])\n",
    "np.average(arr,weights=w)"
   ]
  },
  {
   "cell_type": "code",
   "execution_count": 9,
   "id": "3f5ef7a2",
   "metadata": {},
   "outputs": [
    {
     "data": {
      "text/plain": [
       "array([2., 5.])"
      ]
     },
     "execution_count": 9,
     "metadata": {},
     "output_type": "execute_result"
    }
   ],
   "source": [
    "arr1 = np.array([[1,2,3],[4,5,6]])\n",
    "print(np.mean(arr1))\n",
    "print(np.mean(arr1,axis =1)) # Along col. , considering every different row \n"
   ]
  },
  {
   "cell_type": "code",
   "execution_count": null,
   "id": "3d829b93",
   "metadata": {},
   "outputs": [],
   "source": [
    "#Median  \n",
    "#1. Sort the arr in ascending order \n",
    "#2. Find the length of arr. ( if n%2 ==1 or 0 (Odd , even respectively))"
   ]
  },
  {
   "cell_type": "code",
   "execution_count": 11,
   "id": "84e354a7",
   "metadata": {},
   "outputs": [
    {
     "data": {
      "text/plain": [
       "5.0"
      ]
     },
     "execution_count": 11,
     "metadata": {},
     "output_type": "execute_result"
    }
   ],
   "source": [
    "np.array([1,3,5,7,9])\n",
    "np.median(arr)"
   ]
  },
  {
   "cell_type": "code",
   "execution_count": null,
   "id": "e6b22aed",
   "metadata": {},
   "outputs": [],
   "source": [
    "#np.mode()does not exist "
   ]
  },
  {
   "cell_type": "code",
   "execution_count": 17,
   "id": "748eecf4",
   "metadata": {},
   "outputs": [],
   "source": [
    "arr = [1,3,9,3,3,5,5,7,3,9]\n",
    "from collections import Counter \n",
    "count = Counter(arr) #Dictionary"
   ]
  },
  {
   "cell_type": "code",
   "execution_count": 18,
   "id": "218815b1",
   "metadata": {},
   "outputs": [
    {
     "data": {
      "text/plain": [
       "[(3, 4)]"
      ]
     },
     "execution_count": 18,
     "metadata": {},
     "output_type": "execute_result"
    }
   ],
   "source": [
    "count\n",
    "count.most_common(1) #On passing 1, It will give you only one maximum . \n",
    "#[(3,4)] means Ele. 3 occurs 4 times "
   ]
  },
  {
   "cell_type": "code",
   "execution_count": null,
   "id": "941c63c1",
   "metadata": {},
   "outputs": [],
   "source": [
    "#Standard deviation = Sq. root ( (Sum of sq.(Each value - Mean of values)) / No. of Values )\n"
   ]
  },
  {
   "cell_type": "code",
   "execution_count": 22,
   "id": "3d553bad",
   "metadata": {},
   "outputs": [
    {
     "data": {
      "text/plain": [
       "2.449489742783178"
      ]
     },
     "execution_count": 22,
     "metadata": {},
     "output_type": "execute_result"
    }
   ],
   "source": [
    "marks = np.array([9,8,5,2,6])\n",
    "def standard_dev(arr):\n",
    "    mean = arr.mean()\n",
    "    final_value = 0\n",
    "    for i in arr:\n",
    "        val = (i - mean)**2\n",
    "        final_value += val \n",
    "    return(final_value/len(arr))**0.5\n",
    "\n",
    "\n",
    "standard_dev(marks)"
   ]
  },
  {
   "cell_type": "code",
   "execution_count": null,
   "id": "afb2745a",
   "metadata": {},
   "outputs": [],
   "source": [
    "#Variance = Square of Standard Deviation . "
   ]
  }
 ],
 "metadata": {
  "kernelspec": {
   "display_name": "Python 3 (ipykernel)",
   "language": "python",
   "name": "python3"
  },
  "language_info": {
   "codemirror_mode": {
    "name": "ipython",
    "version": 3
   },
   "file_extension": ".py",
   "mimetype": "text/x-python",
   "name": "python",
   "nbconvert_exporter": "python",
   "pygments_lexer": "ipython3",
   "version": "3.9.13"
  }
 },
 "nbformat": 4,
 "nbformat_minor": 5
}
